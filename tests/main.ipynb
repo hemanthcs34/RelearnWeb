{
 "cells": [
  {
   "cell_type": "code",
   "execution_count": 1,
   "metadata": {},
   "outputs": [
    {
     "name": "stdout",
     "output_type": "stream",
     "text": [
      "Note: you may need to restart the kernel to use updated packages.\n"
     ]
    }
   ],
   "source": [
    "%pip install langgraph -q"
   ]
  },
  {
   "cell_type": "code",
   "execution_count": 2,
   "metadata": {},
   "outputs": [
    {
     "data": {
      "text/plain": [
       "'0.2.73'"
      ]
     },
     "execution_count": 2,
     "metadata": {},
     "output_type": "execute_result"
    }
   ],
   "source": [
    "import langgraph\n",
    "import langgraph.version\n",
    "\n",
    "langgraph.version.__version__"
   ]
  },
  {
   "cell_type": "code",
   "execution_count": 3,
   "metadata": {},
   "outputs": [
    {
     "data": {
      "text/plain": [
       "<langgraph.graph.state.StateGraph at 0x10378dcd0>"
      ]
     },
     "execution_count": 3,
     "metadata": {},
     "output_type": "execute_result"
    }
   ],
   "source": [
    "import os\n",
    "from typing import TypedDict\n",
    "from langgraph.graph import StateGraph, START, END\n",
    "\n",
    "# Make sure your environment variables are set:\n",
    "#   export OPENAI_API_KEY=\"your_api_key\"\n",
    "#   export OPENAI_BASE_URL=\"https://your-endpoint.com/v1\"\n",
    "# openai.api_key = os.getenv(\"OPENAI_API_KEY\")\n",
    "# openai.api_base = os.getenv(\"OPENAI_BASE_URL\")\n",
    "\n",
    "# Define the custom state structure for the research agent.\n",
    "class ResearchAgentState(TypedDict):\n",
    "    depth: int\n",
    "    breadth: int\n",
    "    query: str\n",
    "    results: str\n",
    "    directions: str\n",
    "    learnings: str\n",
    "    report: str\n",
    "\n",
    "# Node: Input Node (initializes or verifies state parameters)\n",
    "def input_node(state: ResearchAgentState) -> ResearchAgentState:\n",
    "    # You can modify or confirm state values here if needed.\n",
    "    return state\n",
    "\n",
    "# Node: Deep Research - perform initial research using the query.\n",
    "def learner_node(state: ResearchAgentState) -> ResearchAgentState:\n",
    "    prompt = (\n",
    "        f\"You are a research assistant. We have a query: '{state['query']}'.\\n\"\n",
    "        f\"Depth: {state['depth']}, Breadth: {state['breadth']}.\\n\"\n",
    "        \"Generate an outline of subtopics or steps to research deeply.\"\n",
    "    )\n",
    "    response = openai.ChatCompletion.create(\n",
    "        model=\"gpt-3.5-turbo\", \n",
    "        messages=[{\"role\": \"user\", \"content\": prompt}]\n",
    "    )\n",
    "    outline = response.choices[0].message[\"content\"]\n",
    "    state[\"results\"] = f\"Initial Outline:\\n{outline}\"\n",
    "    return state\n",
    "\n",
    "# Node: SERP Queries - simulate search engine queries.\n",
    "def serp_queries(state: ResearchAgentState) -> ResearchAgentState:\n",
    "    serp_result = \"Mock SERP Results: [List of relevant URLs and summaries]\"\n",
    "    state[\"results\"] += f\"\\n\\nSERP Results:\\n{serp_result}\"\n",
    "    return state\n",
    "\n",
    "# Node: Process Results - summarize the collected research.\n",
    "def process_results(state: ResearchAgentState) -> ResearchAgentState:\n",
    "    prompt = (\n",
    "        \"Summarize the following research findings in bullet points. \"\n",
    "        \"Highlight key learnings and potential directions.\\n\\n\"\n",
    "        f\"{state['results']}\"\n",
    "    )\n",
    "    summary = \"something\"\n",
    "    state[\"learnings\"] = summary\n",
    "    return state\n",
    "\n",
    "# Node: Compile Results - generate potential directions based on the learnings.\n",
    "def compile_results(state: ResearchAgentState) -> ResearchAgentState:\n",
    "    prompt = (\n",
    "        f\"Based on these learnings:\\n{state['learnings']}\\n\"\n",
    "        \"List 3 next directions or deeper questions to explore.\"\n",
    "    )\n",
    "    response = \"something\"\n",
    "    directions = response.choices[0].message[\"content\"]\n",
    "    state[\"directions\"] = directions\n",
    "    return state\n",
    "\n",
    "# Node: Check Depth - conditional function to decide the next node.\n",
    "def check_depth(state: ResearchAgentState):\n",
    "    # If depth is still greater than 0, return the key for the next direction.\n",
    "    # Otherwise, return the key for compiling the final report.\n",
    "    return \"next_direction\" if state[\"depth\"] > 0 else \"markdown_report\"\n",
    "\n",
    "# Node: Next Direction - refine the query and reduce the depth.\n",
    "def next_direction(state: ResearchAgentState) -> ResearchAgentState:\n",
    "    state[\"depth\"] -= 1  # Decrement depth\n",
    "    state[\"query\"] = f\"{state['query']} + (refined with new subtopics)\"\n",
    "    return state\n",
    "\n",
    "# Node: Markdown Report - compile the final report.\n",
    "def markdown_report(state: ResearchAgentState) -> ResearchAgentState:\n",
    "    md_report = (\n",
    "        f\"# Final Report\\n\\n\"\n",
    "        f\"## Query\\n{state['query']}\\n\\n\"\n",
    "        f\"## Key Learnings\\n{state['learnings']}\\n\\n\"\n",
    "        f\"## Potential Directions\\n{state['directions']}\\n\\n\"\n",
    "    )\n",
    "    state[\"report\"] = md_report\n",
    "    return state\n",
    "\n",
    "# -------------------------------\n",
    "# Build the LangGraph state graph\n",
    "# -------------------------------\n",
    "graph = StateGraph(state_schema=ResearchAgentState)\n",
    "\n",
    "# Add nodes to the graph.\n",
    "graph.add_node(\"input\", input_node)\n",
    "graph.add_node(\"learner_node\", learner_node)\n",
    "graph.add_node(\"serp_queries\", serp_queries)\n",
    "graph.add_node(\"process_results\", process_results)\n",
    "graph.add_node(\"compile_results\", compile_results)\n",
    "graph.add_node(\"check_depth\", lambda state: state)  # 'check_depth' node passes state unchanged.\n",
    "graph.add_node(\"next_direction\", next_direction)\n",
    "graph.add_node(\"markdown_report\", markdown_report)\n",
    "\n",
    "# Define explicit edges between nodes.\n",
    "graph.add_edge(START, \"input\")\n",
    "graph.add_edge(\"input\", \"learner_node\")\n",
    "graph.add_edge(\"learner_node\", \"serp_queries\")\n",
    "graph.add_edge(\"serp_queries\", \"process_results\")\n",
    "graph.add_edge(\"process_results\", \"compile_results\")\n",
    "graph.add_edge(\"compile_results\", \"check_depth\")\n",
    "\n",
    "# Add conditional edges: the 'check_depth' node uses the `check_depth` function to decide the next step.\n",
    "graph.add_conditional_edges(\n",
    "    \"check_depth\", \n",
    "    check_depth, \n",
    "    path_map={\n",
    "        \"next_direction\": \"next_direction\",\n",
    "        \"markdown_report\": \"markdown_report\"\n",
    "    }\n",
    ")\n",
    "\n",
    "# Connect the 'next_direction' node back to 'learner_node' for further iterations.\n",
    "graph.add_edge(\"next_direction\", \"learner_node\")\n",
    "\n",
    "# Finally, connect the 'markdown_report' node to END.\n",
    "graph.add_edge(\"markdown_report\", END)"
   ]
  },
  {
   "cell_type": "code",
   "execution_count": 4,
   "metadata": {},
   "outputs": [
    {
     "data": {
      "text/plain": [
       "<langgraph.graph.state.StateGraph at 0x103a3a910>"
      ]
     },
     "execution_count": 4,
     "metadata": {},
     "output_type": "execute_result"
    }
   ],
   "source": [
    "# -------------------------------\n",
    "# Build the LangGraph state graph\n",
    "# -------------------------------\n",
    "graph = StateGraph(state_schema=ResearchAgentState)\n",
    "\n",
    "# Add nodes to the graph.\n",
    "graph.add_node(\"input\", input_node)\n",
    "graph.add_node(\"learner_node\", learner_node)\n",
    "graph.add_node(\"serp_queries\", serp_queries)\n",
    "graph.add_node(\"process_results\", process_results)\n",
    "graph.add_node(\"compile_results\", compile_results)\n",
    "graph.add_node(\"check_depth\", lambda state: state)  # 'check_depth' node passes state unchanged.\n",
    "graph.add_node(\"next_direction\", next_direction)\n",
    "graph.add_node(\"markdown_report\", markdown_report)\n",
    "\n",
    "# Define explicit edges between nodes.\n",
    "graph.add_edge(START, \"input\")\n",
    "graph.add_edge(\"input\", \"learner_node\")\n",
    "graph.add_edge(\"learner_node\", \"serp_queries\")\n",
    "graph.add_edge(\"serp_queries\", \"process_results\")\n",
    "graph.add_edge(\"process_results\", \"compile_results\")\n",
    "graph.add_edge(\"compile_results\", \"check_depth\")\n",
    "\n",
    "# Add conditional edges: the 'check_depth' node uses the `check_depth` function to decide the next step.\n",
    "graph.add_conditional_edges(\n",
    "    \"check_depth\", \n",
    "    check_depth, \n",
    "    path_map={\n",
    "        \"next_direction\": \"next_direction\",\n",
    "        \"markdown_report\": \"markdown_report\"\n",
    "    }\n",
    ")\n",
    "\n",
    "# Connect the 'next_direction' node back to 'learner_node' for further iterations.\n",
    "graph.add_edge(\"next_direction\", \"learner_node\")\n",
    "\n",
    "# Finally, connect the 'markdown_report' node to END.\n",
    "graph.add_edge(\"markdown_report\", END)\n",
    "\n"
   ]
  },
  {
   "cell_type": "code",
   "execution_count": 5,
   "metadata": {},
   "outputs": [
    {
     "data": {
      "image/png": "[encoded data removed]",
      "text/plain": [
       "<IPython.core.display.Image object>"
      ]
     },
     "metadata": {},
     "output_type": "display_data"
    }
   ],
   "source": [
    "from IPython.display import Image, display\n",
    "\n",
    "# Generate the graph visualization.\n",
    "graph_v = graph.compile()\n",
    "viz = graph_v\n",
    "display(Image(viz.get_graph(xray=1).draw_mermaid_png()))"
   ]
  },
  {
   "cell_type": "code",
   "execution_count": 6,
   "metadata": {},
   "outputs": [],
   "source": [
    "\n",
    "# ---------------------------------\n",
    "# Execute the graph with an initial state.\n",
    "# ---------------------------------\n",
    "# initial_state: ResearchAgentState = {\n",
    "#     \"depth\": 1,  # For example, perform one round of refinement.\n",
    "#     \"breadth\": 3,\n",
    "#     \"query\": \"Quantum Computing breakthroughs\",\n",
    "#     \"results\": \"\",\n",
    "#     \"directions\": \"\",\n",
    "#     \"learnings\": \"\",\n",
    "#     \"report\": \"\"\n",
    "# }\n",
    "\n",
    "# final_state = graph.run(initial_state)\n",
    "\n",
    "# print(\"=== MARKDOWN REPORT ===\")\n",
    "# print(final_state[\"report\"])"
   ]
  }
 ],
 "metadata": {
  "kernelspec": {
   "display_name": ".conda",
   "language": "python",
   "name": "python3"
  },
  "language_info": {
   "codemirror_mode": {
    "name": "ipython",
    "version": 3
   },
   "file_extension": ".py",
   "mimetype": "text/x-python",
   "name": "python",
   "nbconvert_exporter": "python",
   "pygments_lexer": "ipython3",
   "version": "3.11.11"
  }
 },
 "nbformat": 4,
 "nbformat_minor": 2
}
